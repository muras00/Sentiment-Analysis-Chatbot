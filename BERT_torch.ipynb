{
 "cells": [
  {
   "cell_type": "code",
   "outputs": [
    {
     "name": "stdout",
     "output_type": "stream",
     "text": [
      "True\n"
     ]
    }
   ],
   "source": [
    "import torch\n",
    "print(torch.cuda.is_available())"
   ],
   "metadata": {
    "collapsed": false,
    "ExecuteTime": {
     "end_time": "2024-04-24T01:04:10.607383Z",
     "start_time": "2024-04-24T01:04:07.346346300Z"
    }
   },
   "id": "14eea34dcd64d7de",
   "execution_count": 1
  },
  {
   "cell_type": "code",
   "outputs": [
    {
     "data": {
      "text/plain": "        label                                              tweet\n800000      1                       I LOVE   u guys r the best! \n800001      1  im meting up with one of my besties tonight! C...\n800002      1    Thanks for the Twiter ad, Sunisa! I got to m...\n800003      1  Being sick can be realy cheap when it hurts to...\n800004      1                     he has that efect on everyone ",
      "text/html": "<div>\n<style scoped>\n    .dataframe tbody tr th:only-of-type {\n        vertical-align: middle;\n    }\n\n    .dataframe tbody tr th {\n        vertical-align: top;\n    }\n\n    .dataframe thead th {\n        text-align: right;\n    }\n</style>\n<table border=\"1\" class=\"dataframe\">\n  <thead>\n    <tr style=\"text-align: right;\">\n      <th></th>\n      <th>label</th>\n      <th>tweet</th>\n    </tr>\n  </thead>\n  <tbody>\n    <tr>\n      <th>800000</th>\n      <td>1</td>\n      <td>I LOVE   u guys r the best!</td>\n    </tr>\n    <tr>\n      <th>800001</th>\n      <td>1</td>\n      <td>im meting up with one of my besties tonight! C...</td>\n    </tr>\n    <tr>\n      <th>800002</th>\n      <td>1</td>\n      <td>Thanks for the Twiter ad, Sunisa! I got to m...</td>\n    </tr>\n    <tr>\n      <th>800003</th>\n      <td>1</td>\n      <td>Being sick can be realy cheap when it hurts to...</td>\n    </tr>\n    <tr>\n      <th>800004</th>\n      <td>1</td>\n      <td>he has that efect on everyone</td>\n    </tr>\n  </tbody>\n</table>\n</div>"
     },
     "execution_count": 1,
     "metadata": {},
     "output_type": "execute_result"
    }
   ],
   "source": [
    "# Libraries\n",
    "import pandas as pd\n",
    "import numpy as np\n",
    "from transformers import DistilBertTokenizer, DistilBertConfig, DistilBertModel\n",
    "from sklearn.model_selection import train_test_split\n",
    "from datetime import datetime\n",
    "import torch\n",
    "from torch.utils.data import Dataset, DataLoader\n",
    "from torch import nn\n",
    "from tqdm import tqdm\n",
    "from matplotlib import pyplot as plt\n",
    "import seaborn as sns\n",
    "import re\n",
    "\n",
    "# methods\n",
    "def data_cleaning(data):\n",
    "    # cleaning repetitive char\n",
    "    data = re.sub(r'(.)\\1+', r'\\1', data)\n",
    "    # cleaning usernames\n",
    "    data = re.sub('@[^\\s]+', ' ', data)\n",
    "    # cleaning URLs\n",
    "    data = re.sub('((www\\.[^\\s]+)|(https?://[^\\s]+)|([^\\s]+\\.com))',' ',data)\n",
    "    # cleaning numerical numbers\n",
    "    data = re.sub('[0-9]+', '', data)\n",
    "    return data\n",
    "\n",
    "# prepare dataset\n",
    "df = pd.read_csv(r'C:\\Users\\Senju\\Documents\\_Solent\\_Dissertation\\training.1600000.processed.noemoticon.csv', encoding='ISO-8859-1', header=None)\n",
    "df.columns=['label','b','c','d','e','tweet']\n",
    "df = df[['label','tweet']] # label aka class label, target variable\n",
    "df.loc[df['label'] == 4, 'label'] = 1 # convert all values of 4 to 1 (positive sentiment)\n",
    "positive = df[df['label'] == 1] # split the dataframe into positive and negative sentiment\n",
    "negative = df[df['label'] == 0]\n",
    "positive = positive.iloc[:int(50000)] # reducing the data for smoother operation flow\n",
    "negative = negative.iloc[:int(50000)]\n",
    "df = pd.concat([positive, negative]) # combine into one dataframe\n",
    "\n",
    "# data cleaning\n",
    "df['tweet'] = df['tweet'].apply(lambda x: data_cleaning(x))\n",
    "\n",
    "df.head()"
   ],
   "metadata": {
    "collapsed": false,
    "ExecuteTime": {
     "end_time": "2024-05-01T17:22:47.086782700Z",
     "start_time": "2024-05-01T17:22:38.625178100Z"
    }
   },
   "id": "1dd0e541f4a40107",
   "execution_count": 1
  },
  {
   "cell_type": "code",
   "outputs": [
    {
     "data": {
      "text/plain": "<Figure size 640x480 with 1 Axes>",
      "image/png": "[encoded data removed]"
     },
     "metadata": {},
     "output_type": "display_data"
    }
   ],
   "source": [
    "# X (input), y (output)\n",
    "X = df['tweet']\n",
    "y = df['label']\n",
    "\n",
    "tokenizer = DistilBertTokenizer.from_pretrained('distilbert-base-uncased')\n",
    "\n",
    "# Store length of each review \n",
    "token_lens = []\n",
    "\n",
    "# Iterate through the content slide\n",
    "for txt in df.tweet:\n",
    "    tokens = tokenizer.encode(txt, max_length=512, truncation=True)\n",
    "    token_lens.append(len(tokens))\n",
    "    \n",
    "# plot the distribution of review lengths \n",
    "sns.histplot(token_lens)\n",
    "plt.xlim([0, 256])\n",
    "plt.xlabel('Token count')\n",
    "\n",
    "# plt.savefig(r'C:\\Users\\Senju\\Documents\\_Solent\\_Dissertation\\final_report\\diagrams\\dbert_pt_max_length.png')"
   ],
   "metadata": {
    "collapsed": false,
    "ExecuteTime": {
     "end_time": "2024-05-01T17:23:09.277592600Z",
     "start_time": "2024-05-01T17:22:51.631281100Z"
    }
   },
   "id": "a123f31b76a8e4c3",
   "execution_count": 2
  },
  {
   "cell_type": "code",
   "outputs": [],
   "source": [
    "X_list=X.to_list()\n",
    "X_token = tokenizer(X_list, padding='max_length', max_length = 120, truncation=True, return_tensors='pt')[\"input_ids\"]\n",
    "# mask = tokenizer(X_list, padding='max_length', max_length = 120, truncation=True, return_tensors='pt')[\"attention_mask\"]\n",
    "# attention mask should be passed if using max_length = 120, since input_ids may be padded\n",
    "\n",
    "y_list=y.tolist()\n",
    "y_token = torch.Tensor(y_list).long()\n",
    "\n",
    "# Train set size (80%) test set size (20%)\n",
    "X_train, X_test, y_train, y_test = train_test_split(X_token, y_token, test_size=0.2, random_state=42, stratify=y_token)"
   ],
   "metadata": {
    "collapsed": false,
    "ExecuteTime": {
     "end_time": "2024-05-01T17:24:04.251624900Z",
     "start_time": "2024-05-01T17:23:45.219287300Z"
    }
   },
   "id": "1603ec74e7c7bd39",
   "execution_count": 3
  },
  {
   "cell_type": "code",
   "outputs": [],
   "source": [
    "# Convert data to torch dataset\n",
    "class TweetDataset(Dataset):\n",
    "    def __init__(self, X, y):\n",
    "        \"\"\"\n",
    "        Args:\n",
    "            X, y as Torch tensors\n",
    "        \"\"\"\n",
    "        self.X_train = X\n",
    "        self.y_train = y\n",
    "        \n",
    "\n",
    "    def __len__(self):\n",
    "        return len(self.y_train)\n",
    "\n",
    "    def __getitem__(self, idx):\n",
    "        return self.X_train[idx], self.y_train[idx]\n",
    "    \n",
    "# Convert train and test data to Dataset class\n",
    "train_data = TweetDataset(X=X_train, y=y_train)\n",
    "test_data = TweetDataset(X=X_test, y=y_test)"
   ],
   "metadata": {
    "collapsed": false,
    "ExecuteTime": {
     "end_time": "2024-05-01T17:25:21.619680900Z",
     "start_time": "2024-05-01T17:25:21.603682200Z"
    }
   },
   "id": "6d27d7e6d1a85445",
   "execution_count": 4
  },
  {
   "cell_type": "code",
   "outputs": [],
   "source": [
    "# Get train and test data in form of Dataloader class\n",
    "train_DataLoader = DataLoader(train_data, batch_size=32)\n",
    "test_DataLoader = DataLoader(test_data, batch_size=32)"
   ],
   "metadata": {
    "collapsed": false,
    "ExecuteTime": {
     "end_time": "2024-05-01T17:25:22.764998Z",
     "start_time": "2024-05-01T17:25:22.745997500Z"
    }
   },
   "id": "f41eb17ec7e7168",
   "execution_count": 5
  },
  {
   "cell_type": "code",
   "outputs": [],
   "source": [
    "# Get Bert layer\n",
    "config = DistilBertConfig(dropout=0.2, attention_dropout=0.2)\n",
    "dbert = DistilBertModel.from_pretrained('distilbert-base-uncased', config=config)"
   ],
   "metadata": {
    "collapsed": false,
    "ExecuteTime": {
     "end_time": "2024-05-01T17:25:24.404293300Z",
     "start_time": "2024-05-01T17:25:24.053295200Z"
    }
   },
   "id": "c573909af760cc33",
   "execution_count": 6
  },
  {
   "cell_type": "code",
   "outputs": [
    {
     "name": "stdout",
     "output_type": "stream",
     "text": [
      "Using cuda device\n",
      "DistilBertClassification(\n",
      "  (dbert): DistilBertModel(\n",
      "    (embeddings): Embeddings(\n",
      "      (word_embeddings): Embedding(30522, 768, padding_idx=0)\n",
      "      (position_embeddings): Embedding(512, 768)\n",
      "      (LayerNorm): LayerNorm((768,), eps=1e-12, elementwise_affine=True)\n",
      "      (dropout): Dropout(p=0.2, inplace=False)\n",
      "    )\n",
      "    (transformer): Transformer(\n",
      "      (layer): ModuleList(\n",
      "        (0-5): 6 x TransformerBlock(\n",
      "          (attention): MultiHeadSelfAttention(\n",
      "            (dropout): Dropout(p=0.2, inplace=False)\n",
      "            (q_lin): Linear(in_features=768, out_features=768, bias=True)\n",
      "            (k_lin): Linear(in_features=768, out_features=768, bias=True)\n",
      "            (v_lin): Linear(in_features=768, out_features=768, bias=True)\n",
      "            (out_lin): Linear(in_features=768, out_features=768, bias=True)\n",
      "          )\n",
      "          (sa_layer_norm): LayerNorm((768,), eps=1e-12, elementwise_affine=True)\n",
      "          (ffn): FFN(\n",
      "            (dropout): Dropout(p=0.2, inplace=False)\n",
      "            (lin1): Linear(in_features=768, out_features=3072, bias=True)\n",
      "            (lin2): Linear(in_features=3072, out_features=768, bias=True)\n",
      "            (activation): GELUActivation()\n",
      "          )\n",
      "          (output_layer_norm): LayerNorm((768,), eps=1e-12, elementwise_affine=True)\n",
      "        )\n",
      "      )\n",
      "    )\n",
      "  )\n",
      "  (dropout): Dropout(p=0.2, inplace=False)\n",
      "  (linear1): Linear(in_features=768, out_features=64, bias=True)\n",
      "  (ReLu): ReLU()\n",
      "  (linear2): Linear(in_features=64, out_features=5, bias=True)\n",
      ")\n"
     ]
    }
   ],
   "source": [
    "# Set GPU (CUDA) as device for training\n",
    "device = \"cuda\" if torch.cuda.is_available() else \"cpu\"\n",
    "print(f\"Using {device} device\")\n",
    "\n",
    "class DistilBertClassification(nn.Module):\n",
    "    def __init__(self):\n",
    "        super(DistilBertClassification, self).__init__()\n",
    "        self.dbert = dbert\n",
    "        self.dropout = nn.Dropout(p=0.2)\n",
    "        self.linear1 = nn.Linear(768,64)\n",
    "        self.ReLu = nn.ReLU()\n",
    "        self.linear2 = nn.Linear(64,5)\n",
    "\n",
    "    def forward(self, x):\n",
    "        x = self.dbert(input_ids=x)\n",
    "        x = x[\"last_hidden_state\"][:,0,:]\n",
    "        x = self.dropout(x)\n",
    "        x = self.linear1(x)\n",
    "        x = self.ReLu(x)\n",
    "        # x = torch.linspace(-1, 1, 32)\n",
    "        logits = self.linear2(x)\n",
    "        # Softmax already included in the CrossEntropyLoss\n",
    "        return logits\n",
    "\n",
    "model = DistilBertClassification().to(device)\n",
    "\n",
    "print(model)"
   ],
   "metadata": {
    "collapsed": false,
    "ExecuteTime": {
     "end_time": "2024-05-01T17:25:27.236424800Z",
     "start_time": "2024-05-01T17:25:27.067424400Z"
    }
   },
   "id": "bd6a4e5741cf0f5",
   "execution_count": 7
  },
  {
   "cell_type": "code",
   "outputs": [],
   "source": [
    "for param in model.dbert.parameters():\n",
    "    param.requires_grad = False"
   ],
   "metadata": {
    "collapsed": false,
    "ExecuteTime": {
     "end_time": "2024-05-01T17:25:28.146253300Z",
     "start_time": "2024-05-01T17:25:28.133253900Z"
    }
   },
   "id": "6c1b18f0a8c02e1e",
   "execution_count": 8
  },
  {
   "cell_type": "code",
   "outputs": [
    {
     "name": "stdout",
     "output_type": "stream",
     "text": [
      "Number of parameters:  66412421\n",
      "Number of trainable parameters:  49541\n"
     ]
    }
   ],
   "source": [
    "total_params = sum(p.numel() for p in model.parameters())\n",
    "total_params_trainable = sum(p.numel() for p in model.parameters() if p.requires_grad)\n",
    "print(\"Number of parameters: \", total_params)\n",
    "print(\"Number of trainable parameters: \", total_params_trainable)"
   ],
   "metadata": {
    "collapsed": false,
    "ExecuteTime": {
     "end_time": "2024-05-01T17:25:28.770770300Z",
     "start_time": "2024-05-01T17:25:28.757771200Z"
    }
   },
   "id": "da090fd4d6b9bca1",
   "execution_count": 9
  },
  {
   "cell_type": "code",
   "outputs": [
    {
     "name": "stderr",
     "output_type": "stream",
     "text": [
      "  0%|          | 0/2500 [00:00<?, ?it/s]We strongly recommend passing in an `attention_mask` since your input_ids may be padded. See https://huggingface.co/docs/transformers/troubleshooting#incorrect-output-when-padding-tokens-arent-masked.\n",
      "100%|██████████| 2500/2500 [01:48<00:00, 23.04it/s]\n"
     ]
    },
    {
     "name": "stdout",
     "output_type": "stream",
     "text": [
      "Epoch 1 \t\t Training Loss:      0.674 \t\t Validation Loss:      0.641\n",
      "\t\t Training Accuracy:    58.025% \t\t Validation Accuracy:    62.820%\n"
     ]
    },
    {
     "name": "stderr",
     "output_type": "stream",
     "text": [
      "100%|██████████| 2500/2500 [01:48<00:00, 22.99it/s]\n"
     ]
    },
    {
     "name": "stdout",
     "output_type": "stream",
     "text": [
      "Epoch 2 \t\t Training Loss:      0.660 \t\t Validation Loss:      0.628\n",
      "\t\t Training Accuracy:    60.170% \t\t Validation Accuracy:    67.485%\n"
     ]
    }
   ],
   "source": [
    "epochs = 2\n",
    "# criterion = torch.nn.BCELoss()\n",
    "criterion = torch.nn.CrossEntropyLoss()\n",
    "optimizer = torch.optim.Adam(model.parameters())\n",
    "\n",
    "# Define the dictionary \"history\" that will collect key performance indicators during training\n",
    "history = {}\n",
    "history[\"epoch\"]=[]\n",
    "history[\"train_loss\"]=[]\n",
    "history[\"valid_loss\"]=[]\n",
    "history[\"train_accuracy\"]=[]\n",
    "history[\"valid_accuracy\"]=[]\n",
    "\n",
    "# Measure time for training\n",
    "start_time = datetime.now()\n",
    "\n",
    "# Loop on epochs\n",
    "for e in range(epochs):\n",
    "    \n",
    "    # Set mode in train mode\n",
    "    model.train()\n",
    "    \n",
    "    train_loss = 0.0\n",
    "    train_accuracy = []\n",
    "    \n",
    "    # Loop on batches\n",
    "    for X, y in tqdm(train_DataLoader):\n",
    "        X = X.cuda()\n",
    "        y = y.cuda()\n",
    "        '''Line 27 and 28 solves the following error: \n",
    "        RuntimeError: Expected all tensors to be on the same device, \n",
    "        but found at least two devices, cuda:0 and cpu! \n",
    "        (when checking argument for argument index in method wrapper_CUDA__index_select)'''\n",
    "        \n",
    "        # Get prediction & loss\n",
    "        prediction = model(X)\n",
    "        loss = criterion(prediction, y)\n",
    "        \n",
    "        # Adjust the parameters of the model\n",
    "        optimizer.zero_grad()\n",
    "        loss.backward()\n",
    "        optimizer.step()\n",
    "        \n",
    "        train_loss += loss.item()\n",
    "        \n",
    "        prediction_index = prediction.argmax(axis=1)\n",
    "        accuracy = (prediction_index==y)\n",
    "        train_accuracy += accuracy\n",
    "    \n",
    "    train_accuracy = (sum(train_accuracy) / len(train_accuracy)).item()\n",
    "    \n",
    "    # Calculate the loss on the test data after each epoch\n",
    "    # Set mode to evaluation (by opposition to training)\n",
    "    model.eval()\n",
    "    valid_loss = 0.0\n",
    "    valid_accuracy = []\n",
    "    for X, y in test_DataLoader:\n",
    "        X = X.cuda()\n",
    "        y = y.cuda()\n",
    "         \n",
    "        prediction = model(X)\n",
    "        loss = criterion(prediction, y)\n",
    "\n",
    "        valid_loss += loss.item()\n",
    "        \n",
    "        prediction_index = prediction.argmax(axis=1)\n",
    "        accuracy = (prediction_index==y)\n",
    "        valid_accuracy += accuracy\n",
    "    valid_accuracy = (sum(valid_accuracy) / len(valid_accuracy)).item()\n",
    "    \n",
    "    # Populate history\n",
    "    history[\"epoch\"].append(e+1)\n",
    "    history[\"train_loss\"].append(train_loss / len(train_DataLoader))\n",
    "    history[\"valid_loss\"].append(valid_loss / len(test_DataLoader))\n",
    "    history[\"train_accuracy\"].append(train_accuracy)\n",
    "    history[\"valid_accuracy\"].append(valid_accuracy)    \n",
    "        \n",
    "    print(f'Epoch {e+1} \\t\\t Training Loss: {train_loss / len(train_DataLoader) :10.3f} \\t\\t Validation Loss: {valid_loss / len(test_DataLoader) :10.3f}')\n",
    "    print(f'\\t\\t Training Accuracy: {train_accuracy :10.3%} \\t\\t Validation Accuracy: {valid_accuracy :10.3%}')\n",
    "    # Categorical accuracy\n",
    "    \n",
    "# Measure time for training\n",
    "end_time = datetime.now()\n",
    "training_time = (end_time - start_time).total_seconds()"
   ],
   "metadata": {
    "collapsed": false,
    "ExecuteTime": {
     "end_time": "2024-05-01T17:30:06.710351500Z",
     "start_time": "2024-05-01T17:25:35.618823Z"
    }
   },
   "id": "d9895f285181415",
   "execution_count": 10
  },
  {
   "cell_type": "code",
   "outputs": [],
   "source": [
    "save_as = 'distilBERT_pt_epoch2'"
   ],
   "metadata": {
    "collapsed": false,
    "ExecuteTime": {
     "end_time": "2024-05-01T17:32:48.165643500Z",
     "start_time": "2024-05-01T17:32:48.158494500Z"
    }
   },
   "id": "49de7fd1da3db858",
   "execution_count": 11
  },
  {
   "cell_type": "code",
   "outputs": [
    {
     "data": {
      "text/plain": "<Figure size 1500x500 with 2 Axes>",
      "image/png": "[encoded data removed]"
     },
     "metadata": {},
     "output_type": "display_data"
    }
   ],
   "source": [
    "fig, ax = plt.subplots(nrows=1, ncols=2, figsize=(15, 5))\n",
    "ax[0].set(title='Loss')\n",
    "ax[0].plot(history['train_loss'], label='Training')\n",
    "ax[0].plot(history['valid_loss'], label='Validation')\n",
    "ax[0].legend(loc=\"upper right\")\n",
    "\n",
    "ax[1].set(title='Accuracy')\n",
    "ax[1].plot(history['train_accuracy'], label='Training')\n",
    "ax[1].plot(history['valid_accuracy'], label='Validation')\n",
    "ax[1].legend(loc=\"lower right\")\n",
    "\n",
    "plt.savefig(r'C:\\Users\\Senju\\Documents\\_Solent\\_Dissertation\\final_report\\diagrams\\\\' + save_as + '.png')"
   ],
   "metadata": {
    "collapsed": false,
    "ExecuteTime": {
     "end_time": "2024-05-01T17:32:50.411421300Z",
     "start_time": "2024-05-01T17:32:50.070422Z"
    }
   },
   "id": "13f4ea72ac581d4c",
   "execution_count": 12
  },
  {
   "cell_type": "code",
   "outputs": [
    {
     "name": "stdout",
     "output_type": "stream",
     "text": [
      "Training accuracy: 60.2%\n",
      "Validation accuracy: 67.5%\n",
      "Training time: 270.4s (or 4.5 minutes)\n"
     ]
    }
   ],
   "source": [
    "accuracy = history['valid_accuracy'][-1]\n",
    "print('Training accuracy: {:.1%}'.format(history['train_accuracy'][-1]))\n",
    "print('Validation accuracy: {:.1%}'.format(history['valid_accuracy'][-1]))\n",
    "print('Training time: {:.1f}s (or {:.1f} minutes)'.format(training_time, training_time/60))"
   ],
   "metadata": {
    "collapsed": false,
    "ExecuteTime": {
     "end_time": "2024-05-01T17:32:53.621186200Z",
     "start_time": "2024-05-01T17:32:53.614182500Z"
    }
   },
   "id": "ee88aa62c0651021",
   "execution_count": 13
  },
  {
   "cell_type": "code",
   "outputs": [],
   "source": [
    "save_as = save_as + '.sd'"
   ],
   "metadata": {
    "collapsed": false,
    "ExecuteTime": {
     "end_time": "2024-05-01T17:32:58.685608900Z",
     "start_time": "2024-05-01T17:32:58.653609800Z"
    }
   },
   "id": "77cf6f5f3ac96322",
   "execution_count": 14
  },
  {
   "cell_type": "code",
   "outputs": [],
   "source": [
    "# save trained model\n",
    "torch.save(model.state_dict(), save_as)"
   ],
   "metadata": {
    "collapsed": false,
    "ExecuteTime": {
     "end_time": "2024-05-01T17:32:59.479623900Z",
     "start_time": "2024-05-01T17:32:59.139623800Z"
    }
   },
   "id": "2609a829f37323cf",
   "execution_count": 15
  },
  {
   "cell_type": "code",
   "outputs": [
    {
     "data": {
      "text/plain": "DistilBertClassification(\n  (dbert): DistilBertModel(\n    (embeddings): Embeddings(\n      (word_embeddings): Embedding(30522, 768, padding_idx=0)\n      (position_embeddings): Embedding(512, 768)\n      (LayerNorm): LayerNorm((768,), eps=1e-12, elementwise_affine=True)\n      (dropout): Dropout(p=0.2, inplace=False)\n    )\n    (transformer): Transformer(\n      (layer): ModuleList(\n        (0-5): 6 x TransformerBlock(\n          (attention): MultiHeadSelfAttention(\n            (dropout): Dropout(p=0.2, inplace=False)\n            (q_lin): Linear(in_features=768, out_features=768, bias=True)\n            (k_lin): Linear(in_features=768, out_features=768, bias=True)\n            (v_lin): Linear(in_features=768, out_features=768, bias=True)\n            (out_lin): Linear(in_features=768, out_features=768, bias=True)\n          )\n          (sa_layer_norm): LayerNorm((768,), eps=1e-12, elementwise_affine=True)\n          (ffn): FFN(\n            (dropout): Dropout(p=0.2, inplace=False)\n            (lin1): Linear(in_features=768, out_features=3072, bias=True)\n            (lin2): Linear(in_features=3072, out_features=768, bias=True)\n            (activation): GELUActivation()\n          )\n          (output_layer_norm): LayerNorm((768,), eps=1e-12, elementwise_affine=True)\n        )\n      )\n    )\n  )\n  (dropout): Dropout(p=0.2, inplace=False)\n  (linear1): Linear(in_features=768, out_features=64, bias=True)\n  (ReLu): ReLU()\n  (linear2): Linear(in_features=64, out_features=5, bias=True)\n)"
     },
     "execution_count": 28,
     "metadata": {},
     "output_type": "execute_result"
    }
   ],
   "source": [
    "from transformers import DistilBertConfig, DistilBertModel\n",
    "from torch import nn\n",
    "\n",
    "# load existing model\n",
    "config = DistilBertConfig(dropout=0.2, attention_dropout=0.2)\n",
    "dbert = DistilBertModel.from_pretrained('distilbert-base-uncased', config=config)\n",
    "\n",
    "class DistilBertClassification(nn.Module):\n",
    "    def __init__(self):\n",
    "        super(DistilBertClassification, self).__init__()\n",
    "        self.dbert = dbert\n",
    "        self.dropout = nn.Dropout(p=0.2)\n",
    "        self.linear1 = nn.Linear(768,64)\n",
    "        self.ReLu = nn.ReLU()\n",
    "        self.linear2 = nn.Linear(64,5)\n",
    "\n",
    "    def forward(self, x):\n",
    "        x = self.dbert(input_ids=x)\n",
    "        x = x[\"last_hidden_state\"][:,0,:]\n",
    "        x = self.dropout(x)\n",
    "        x = self.linear1(x)\n",
    "        x = self.ReLu(x)\n",
    "        logits = self.linear2(x)\n",
    "        # softmax already included in the CrossEntropyLoss\n",
    "        return logits\n",
    "\n",
    "model2 = DistilBertClassification()\n",
    "model2.load_state_dict(torch.load(save_as))\n",
    "model2.eval()"
   ],
   "metadata": {
    "collapsed": false,
    "ExecuteTime": {
     "end_time": "2024-04-27T04:02:54.106552200Z",
     "start_time": "2024-04-27T04:02:53.226287800Z"
    }
   },
   "id": "f56e0d9f50cb25ac",
   "execution_count": 28
  }
 ],
 "metadata": {
  "kernelspec": {
   "display_name": "Python 3",
   "language": "python",
   "name": "python3"
  },
  "language_info": {
   "codemirror_mode": {
    "name": "ipython",
    "version": 2
   },
   "file_extension": ".py",
   "mimetype": "text/x-python",
   "name": "python",
   "nbconvert_exporter": "python",
   "pygments_lexer": "ipython2",
   "version": "2.7.6"
  }
 },
 "nbformat": 4,
 "nbformat_minor": 5
}
